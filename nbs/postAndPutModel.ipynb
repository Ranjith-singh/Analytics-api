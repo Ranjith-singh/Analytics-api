{
 "cells": [
  {
   "cell_type": "code",
   "execution_count": 6,
   "id": "dc67e5f5",
   "metadata": {},
   "outputs": [],
   "source": [
    "import requests\n",
    "import json"
   ]
  },
  {
   "cell_type": "code",
   "execution_count": 12,
   "id": "5bfad25a",
   "metadata": {},
   "outputs": [
    {
     "name": "stdout",
     "output_type": "stream",
     "text": [
      "<Response [200]>\n",
      "response headers {'date': 'Wed, 23 Apr 2025 05:59:37 GMT', 'server': 'uvicorn', 'content-length': '154', 'content-type': 'application/json'}\n",
      "response {'updated_at': '2025-04-23T05:59:26.389783', 'id': 4, 'path': 'http://localhost:8002/api/events', 'created_at': '2025-04-23T05:59:26.389714', 'description': 'api'}\n"
     ]
    }
   ],
   "source": [
    "# post\n",
    "endpoint = f'http://localhost:8002/api/events'\n",
    "response = requests.post(endpoint,json={'path' : 'http://localhost:8002/api/events'})\n",
    "print(response)\n",
    "print('response headers',response.headers)\n",
    "response = response.json()\n",
    "print('response',response)"
   ]
  },
  {
   "cell_type": "code",
   "execution_count": 40,
   "id": "9f8490f4",
   "metadata": {},
   "outputs": [
    {
     "name": "stdout",
     "output_type": "stream",
     "text": [
      "<Response [200]>\n",
      "response : {'items': [1, 2, 3]}\n"
     ]
    }
   ],
   "source": [
    "endpoint = f'http://localhost:8002/api/events'\n",
    "response = requests.put(endpoint,json={'description' : 'api'})\n",
    "print(response)\n",
    "response = response.json()\n",
    "print('response :',response)"
   ]
  },
  {
   "cell_type": "code",
   "execution_count": 13,
   "id": "a33e6fa3",
   "metadata": {},
   "outputs": [
    {
     "name": "stdout",
     "output_type": "stream",
     "text": [
      "<Response [200]>\n",
      "response headers {'date': 'Wed, 23 Apr 2025 05:59:45 GMT', 'server': 'uvicorn', 'content-length': '483', 'content-type': 'application/json'}\n",
      "response :\n",
      "{'items': [{'created_at': '2025-04-23T05:59:26.389714',\n",
      "            'description': 'api',\n",
      "            'id': 4,\n",
      "            'path': 'http://localhost:8002/api/events',\n",
      "            'updated_at': '2025-04-23T05:59:26.389783'},\n",
      "           {'created_at': '2025-04-23T05:52:25.552007',\n",
      "            'description': 'api',\n",
      "            'id': 3,\n",
      "            'path': 'http://localhost:8002/api/events',\n",
      "            'updated_at': '2025-04-23T05:52:25.552093'},\n",
      "           {'created_at': '2025-04-23T05:52:25.552007',\n",
      "            'description': 'api_update',\n",
      "            'id': 2,\n",
      "            'path': 'http://localhost:8002/api/events',\n",
      "            'updated_at': '2025-04-23T05:56:49.610480'}]}\n"
     ]
    }
   ],
   "source": [
    "# get\n",
    "from pprint import pprint\n",
    "endpoint = f'http://localhost:8002/api/events'\n",
    "response = requests.get(endpoint)\n",
    "print(response)\n",
    "print('response headers',response.headers)\n",
    "response = response.json()\n",
    "print(\"response :\")\n",
    "pprint(response)"
   ]
  },
  {
   "cell_type": "code",
   "execution_count": null,
   "id": "4dfbea37",
   "metadata": {},
   "outputs": [],
   "source": []
  }
 ],
 "metadata": {
  "kernelspec": {
   "display_name": "venv",
   "language": "python",
   "name": "python3"
  },
  "language_info": {
   "codemirror_mode": {
    "name": "ipython",
    "version": 3
   },
   "file_extension": ".py",
   "mimetype": "text/x-python",
   "name": "python",
   "nbconvert_exporter": "python",
   "pygments_lexer": "ipython3",
   "version": "3.13.1"
  }
 },
 "nbformat": 4,
 "nbformat_minor": 5
}
