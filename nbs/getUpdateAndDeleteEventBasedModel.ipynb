{
 "cells": [
  {
   "cell_type": "code",
   "execution_count": 1,
   "id": "dc67e5f5",
   "metadata": {},
   "outputs": [],
   "source": [
    "import requests\n",
    "import json\n",
    "from pprint import pprint"
   ]
  },
  {
   "cell_type": "code",
   "execution_count": null,
   "id": "5bfad25a",
   "metadata": {},
   "outputs": [
    {
     "name": "stdout",
     "output_type": "stream",
     "text": [
      "response headers {'date': 'Tue, 22 Apr 2025 15:18:39 GMT', 'server': 'uvicorn', 'content-length': '70', 'content-type': 'application/json'}\n",
      "response {'path': 'http://localhost:8002/api/events', 'id': 5, 'description': 'api'}\n"
     ]
    }
   ],
   "source": [
    "# get\n",
    "endpoint = f'http://localhost:8002/api/events/5'\n",
    "response = requests.get(endpoint)\n",
    "print('response headers',response.headers)\n",
    "response = response.json()\n",
    "print('response',response)"
   ]
  },
  {
   "cell_type": "code",
   "execution_count": 5,
   "id": "9f8490f4",
   "metadata": {},
   "outputs": [
    {
     "name": "stdout",
     "output_type": "stream",
     "text": [
      "{'description': 'api_inline',\n",
      " 'id': 5,\n",
      " 'path': 'http://localhost:8002/api/events'}\n"
     ]
    }
   ],
   "source": [
    "# put\n",
    "endpoint = f'http://localhost:8002/api/events/5'\n",
    "response = requests.put(endpoint,json={'description' : 'api'})\n",
    "response = response.json()\n",
    "pprint(response)"
   ]
  },
  {
   "cell_type": "code",
   "execution_count": 17,
   "id": "7b40e1a9",
   "metadata": {},
   "outputs": [
    {
     "name": "stdout",
     "output_type": "stream",
     "text": [
      "<Response [200]>\n"
     ]
    }
   ],
   "source": [
    "# delete\n",
    "endpoint = f'http://localhost:8002/api/events/5'\n",
    "response = requests.delete(endpoint)\n",
    "# response = response.json()\n",
    "pprint(response)"
   ]
  },
  {
   "cell_type": "code",
   "execution_count": 18,
   "id": "a33e6fa3",
   "metadata": {},
   "outputs": [
    {
     "name": "stdout",
     "output_type": "stream",
     "text": [
      "<Response [200]>\n",
      "response headers {'date': 'Tue, 22 Apr 2025 22:14:15 GMT', 'server': 'uvicorn', 'content-length': '366', 'content-type': 'application/json'}\n",
      "response :\n",
      "{'items': [{'description': 'api',\n",
      "            'id': 7,\n",
      "            'path': 'http://localhost:8002/api/events'},\n",
      "           {'description': 'api',\n",
      "            'id': 6,\n",
      "            'path': 'http://localhost:8002/api/events'},\n",
      "           {'description': 'api',\n",
      "            'id': 4,\n",
      "            'path': 'http://localhost:8002/api/events'},\n",
      "           {'description': 'api',\n",
      "            'id': 3,\n",
      "            'path': 'http://localhost:8002/api/events'},\n",
      "           {'description': 'api',\n",
      "            'id': 2,\n",
      "            'path': 'http://localhost:8002/api/events'}]}\n"
     ]
    }
   ],
   "source": [
    "# get\n",
    "from pprint import pprint\n",
    "endpoint = f'http://localhost:8002/api/events'\n",
    "response = requests.get(endpoint)\n",
    "print(response)\n",
    "print('response headers',response.headers)\n",
    "response = response.json()\n",
    "print(\"response :\")\n",
    "pprint(response)"
   ]
  },
  {
   "cell_type": "code",
   "execution_count": null,
   "id": "4dfbea37",
   "metadata": {},
   "outputs": [],
   "source": []
  }
 ],
 "metadata": {
  "kernelspec": {
   "display_name": "venv",
   "language": "python",
   "name": "python3"
  },
  "language_info": {
   "codemirror_mode": {
    "name": "ipython",
    "version": 3
   },
   "file_extension": ".py",
   "mimetype": "text/x-python",
   "name": "python",
   "nbconvert_exporter": "python",
   "pygments_lexer": "ipython3",
   "version": "3.13.1"
  }
 },
 "nbformat": 4,
 "nbformat_minor": 5
}
