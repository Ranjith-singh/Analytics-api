{
 "cells": [
  {
   "cell_type": "code",
   "execution_count": 6,
   "id": "dc67e5f5",
   "metadata": {},
   "outputs": [],
   "source": [
    "import requests\n",
    "import json"
   ]
  },
  {
   "cell_type": "code",
   "execution_count": 10,
   "id": "5bfad25a",
   "metadata": {},
   "outputs": [
    {
     "name": "stdout",
     "output_type": "stream",
     "text": [
      "<Response [200]>\n",
      "response headers {'date': 'Sat, 19 Apr 2025 08:34:37 GMT', 'server': 'uvicorn', 'content-length': '17', 'content-type': 'application/json'}\n",
      "response {'items': [1, 2, 3]}\n"
     ]
    }
   ],
   "source": [
    "endpoint = f'http://localhost:8002/api/events'\n",
    "response = requests.post(endpoint,json.dumps({'id' : 1}))\n",
    "print(response)\n",
    "print('response headers',response.headers)\n",
    "response = response.json()\n",
    "print('response',response)"
   ]
  },
  {
   "cell_type": "code",
   "execution_count": null,
   "id": "9f8490f4",
   "metadata": {},
   "outputs": [
    {
     "data": {
      "text/plain": [
       "str"
      ]
     },
     "execution_count": 17,
     "metadata": {},
     "output_type": "execute_result"
    }
   ],
   "source": [
    "a : int\n",
    "type(a)"
   ]
  },
  {
   "cell_type": "code",
   "execution_count": null,
   "id": "a33e6fa3",
   "metadata": {},
   "outputs": [],
   "source": []
  }
 ],
 "metadata": {
  "kernelspec": {
   "display_name": "venv",
   "language": "python",
   "name": "python3"
  },
  "language_info": {
   "codemirror_mode": {
    "name": "ipython",
    "version": 3
   },
   "file_extension": ".py",
   "mimetype": "text/x-python",
   "name": "python",
   "nbconvert_exporter": "python",
   "pygments_lexer": "ipython3",
   "version": "3.13.1"
  }
 },
 "nbformat": 4,
 "nbformat_minor": 5
}
