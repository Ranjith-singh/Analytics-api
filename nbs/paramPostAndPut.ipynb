{
 "cells": [
  {
   "cell_type": "code",
   "execution_count": 1,
   "id": "dc67e5f5",
   "metadata": {},
   "outputs": [],
   "source": [
    "import requests\n",
    "import json"
   ]
  },
  {
   "cell_type": "code",
   "execution_count": 25,
   "id": "5bfad25a",
   "metadata": {},
   "outputs": [
    {
     "name": "stdout",
     "output_type": "stream",
     "text": [
      "<Response [200]>\n",
      "response headers {'date': 'Mon, 21 Apr 2025 19:13:05 GMT', 'server': 'uvicorn', 'content-length': '71', 'content-type': 'application/json'}\n",
      "response {'id': 12, 'path': 'http://localhost:8002/api/events', 'description': 'api'}\n"
     ]
    }
   ],
   "source": [
    "# post\n",
    "endpoint = f'http://localhost:8002/api/events/12'\n",
    "response = requests.post(endpoint,json={'path' : 'http://localhost:8002/api/events'})\n",
    "print(response)\n",
    "print('response headers',response.headers)\n",
    "response = response.json()\n",
    "print('response',response)"
   ]
  },
  {
   "cell_type": "code",
   "execution_count": 21,
   "id": "9f8490f4",
   "metadata": {},
   "outputs": [
    {
     "name": "stdout",
     "output_type": "stream",
     "text": [
      "<Response [200]>\n",
      "response : {'id': 12, 'description': 'api', 'path': ''}\n"
     ]
    }
   ],
   "source": [
    "# put\n",
    "endpoint = f'http://localhost:8002/api/events/12'\n",
    "response = requests.put(endpoint,json={'description' : 'api'})\n",
    "print(response)\n",
    "# print('response headers',response.headers)\n",
    "response = response.json()\n",
    "print('response :',response)\n"
   ]
  },
  {
   "cell_type": "code",
   "execution_count": null,
   "id": "a33e6fa3",
   "metadata": {},
   "outputs": [],
   "source": []
  }
 ],
 "metadata": {
  "kernelspec": {
   "display_name": "venv",
   "language": "python",
   "name": "python3"
  },
  "language_info": {
   "codemirror_mode": {
    "name": "ipython",
    "version": 3
   },
   "file_extension": ".py",
   "mimetype": "text/x-python",
   "name": "python",
   "nbconvert_exporter": "python",
   "pygments_lexer": "ipython3",
   "version": "3.13.1"
  }
 },
 "nbformat": 4,
 "nbformat_minor": 5
}
